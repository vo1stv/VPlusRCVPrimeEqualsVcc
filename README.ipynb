{
 "cells": [
  {
   "cell_type": "markdown",
   "metadata": {},
   "source": [
    "VPlusRCVPrimeEqualsVcc\n",
    "======================\n",
    "\n",
    "Basics of circuit analysis"
   ]
  }
 ],
 "nbformat": 4,
 "nbformat_minor": 5,
 "metadata": {}
}
